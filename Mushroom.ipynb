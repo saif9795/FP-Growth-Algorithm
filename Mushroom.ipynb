{
 "cells": [
  {
   "cell_type": "code",
   "execution_count": 1,
   "id": "8c52f8b8",
   "metadata": {},
   "outputs": [],
   "source": [
    "import numpy as np\n",
    "import time\n",
    "import matplotlib.pyplot as plt\n",
    "import pandas as pd\n",
    "from mlxtend.frequent_patterns import apriori, association_rules,fpgrowth\n",
    "from mlxtend.preprocessing import TransactionEncoder\n",
    "import csv"
   ]
  },
  {
   "cell_type": "code",
   "execution_count": 2,
   "id": "52fe245a",
   "metadata": {},
   "outputs": [],
   "source": [
    "items=[]\n",
    "with open('mushroom.dat', 'r') as file:\n",
    "    dataset = csv.reader(file, delimiter=' ')\n",
    "    for row in dataset:\n",
    "        temp=[element for element in row]\n",
    "        temp= temp[:-1]\n",
    "        items.append(temp)"
   ]
  },
  {
   "cell_type": "code",
   "execution_count": 3,
   "id": "a0f1ef77",
   "metadata": {},
   "outputs": [
    {
     "name": "stdout",
     "output_type": "stream",
     "text": [
      "        support                                           itemsets\n",
      "0      0.482029                                                (1)\n",
      "1      0.399311                                               (10)\n",
      "2      0.200886                                              (101)\n",
      "3      0.293944                                              (102)\n",
      "4      0.285574                                               (11)\n",
      "...         ...                                                ...\n",
      "53578  0.212703  (39, 2, 90, 93, 34, 116, 63, 23, 59, 85, 53, 3...\n",
      "53579  0.212703  (39, 28, 2, 90, 93, 34, 116, 63, 36, 59, 85, 5...\n",
      "53580  0.212703  (39, 28, 90, 93, 34, 116, 63, 23, 59, 85, 53, ...\n",
      "53581  0.212703  (39, 28, 2, 90, 93, 34, 63, 23, 59, 85, 53, 36...\n",
      "53582  0.212703  (39, 28, 2, 90, 93, 34, 116, 63, 23, 59, 85, 5...\n",
      "\n",
      "[53583 rows x 2 columns]\n",
      "Runtime of the program is 16.578125\n",
      "      support                      itemsets\n",
      "0    0.482029                           (1)\n",
      "1    0.497292                         (110)\n",
      "2    0.517971                           (2)\n",
      "3    0.415559                          (23)\n",
      "4    0.584441                          (24)\n",
      "..        ...                           ...\n",
      "560  0.454948      (90, 34, 63, 36, 85, 86)\n",
      "561  0.407681      (39, 90, 34, 85, 86, 56)\n",
      "562  0.442639      (90, 34, 63, 85, 86, 59)\n",
      "563  0.407681      (39, 90, 36, 85, 86, 56)\n",
      "564  0.407681  (39, 90, 34, 36, 85, 86, 56)\n",
      "\n",
      "[565 rows x 2 columns]\n",
      "Runtime of the program is 0.171875\n",
      "     support              itemsets\n",
      "0   0.974151                  (34)\n",
      "1   0.838503                  (36)\n",
      "2   0.690793                  (39)\n",
      "3   0.637125                  (59)\n",
      "4   0.607582                  (63)\n",
      "5   1.000000                  (85)\n",
      "6   0.975382                  (86)\n",
      "7   0.921713                  (90)\n",
      "8   0.812654              (36, 34)\n",
      "9   0.664943              (39, 34)\n",
      "10  0.613491              (59, 34)\n",
      "11  0.974151              (85, 34)\n",
      "12  0.973166              (86, 34)\n",
      "13  0.898080              (90, 34)\n",
      "14  0.838503              (36, 85)\n",
      "15  0.814870              (36, 86)\n",
      "16  0.795667              (90, 36)\n",
      "17  0.690793              (39, 85)\n",
      "18  0.667159              (39, 86)\n",
      "19  0.612506              (39, 90)\n",
      "20  0.637125              (85, 59)\n",
      "21  0.613491              (86, 59)\n",
      "22  0.607582              (63, 85)\n",
      "23  0.975382              (86, 85)\n",
      "24  0.921713              (90, 85)\n",
      "25  0.897095              (90, 86)\n",
      "26  0.812654          (36, 85, 34)\n",
      "27  0.812654          (36, 86, 34)\n",
      "28  0.772033          (90, 36, 34)\n",
      "29  0.664943          (39, 85, 34)\n",
      "30  0.664943          (39, 86, 34)\n",
      "31  0.613491          (85, 59, 34)\n",
      "32  0.613491          (86, 59, 34)\n",
      "33  0.973166          (86, 85, 34)\n",
      "34  0.898080          (90, 85, 34)\n",
      "35  0.897095          (90, 86, 34)\n",
      "36  0.814870          (36, 86, 85)\n",
      "37  0.795667          (90, 36, 85)\n",
      "38  0.772033          (90, 36, 86)\n",
      "39  0.667159          (39, 86, 85)\n",
      "40  0.612506          (39, 90, 85)\n",
      "41  0.613491          (85, 86, 59)\n",
      "42  0.897095          (90, 86, 85)\n",
      "43  0.812654      (36, 86, 85, 34)\n",
      "44  0.772033      (90, 36, 85, 34)\n",
      "45  0.772033      (90, 36, 86, 34)\n",
      "46  0.664943      (39, 86, 85, 34)\n",
      "47  0.613491      (85, 86, 59, 34)\n",
      "48  0.897095      (90, 86, 85, 34)\n",
      "49  0.772033      (90, 36, 86, 85)\n",
      "50  0.772033  (90, 34, 36, 85, 86)\n",
      "Runtime of the program is 0.0625\n",
      "     support          itemsets\n",
      "0   0.974151              (34)\n",
      "1   0.838503              (36)\n",
      "2   1.000000              (85)\n",
      "3   0.975382              (86)\n",
      "4   0.921713              (90)\n",
      "5   0.812654          (36, 34)\n",
      "6   0.974151          (85, 34)\n",
      "7   0.973166          (86, 34)\n",
      "8   0.898080          (90, 34)\n",
      "9   0.838503          (36, 85)\n",
      "10  0.814870          (36, 86)\n",
      "11  0.975382          (86, 85)\n",
      "12  0.921713          (90, 85)\n",
      "13  0.897095          (90, 86)\n",
      "14  0.812654      (36, 85, 34)\n",
      "15  0.812654      (36, 86, 34)\n",
      "16  0.973166      (86, 85, 34)\n",
      "17  0.898080      (90, 85, 34)\n",
      "18  0.897095      (90, 86, 34)\n",
      "19  0.814870      (36, 86, 85)\n",
      "20  0.897095      (90, 86, 85)\n",
      "21  0.812654  (36, 86, 85, 34)\n",
      "22  0.897095  (90, 86, 85, 34)\n",
      "Runtime of the program is 0.0625\n",
      "   support itemsets\n",
      "0      1.0     (85)\n",
      "Runtime of the program is 0.0625\n"
     ]
    }
   ],
   "source": [
    "apc_times = list()\n",
    "apc_elements = list()\n",
    "minsupport = .2\n",
    "while minsupport <=1:\n",
    "  start = time.process_time()\n",
    "  te = TransactionEncoder()\n",
    "  te_ary = te.fit(items).transform(items)\n",
    "  df = pd.DataFrame(te_ary, columns=te.columns_)\n",
    "  result= apriori(df, min_support= minsupport, use_colnames=True)\n",
    "  apc_elements.append(minsupport)    \n",
    "  end = time.process_time()\n",
    "  apc_times.append(end-start)\n",
    "  print (result)\n",
    "  # total time taken\n",
    "  print(f\"Runtime of the program is {end - start}\")\n",
    "  minsupport +=.2"
   ]
  },
  {
   "cell_type": "code",
   "execution_count": 4,
   "id": "50da704b",
   "metadata": {},
   "outputs": [
    {
     "data": {
      "image/png": "[encoded data removed]",
      "text/plain": [
       "<Figure size 432x288 with 1 Axes>"
      ]
     },
     "metadata": {
      "needs_background": "light"
     },
     "output_type": "display_data"
    }
   ],
   "source": [
    "plt.title('Mushroom')\n",
    "plt.xlabel('Minimum Threshold')\n",
    "plt.ylabel('Time Complexity')\n",
    "plt.plot(apc_elements, apc_times, label ='Apriori')\n",
    "plt.grid()\n",
    "plt.legend()\n",
    "plt.savefig('AprioriMushroom.pdf',bbox_inches='tight')\n",
    "plt.show()"
   ]
  },
  {
   "cell_type": "code",
   "execution_count": 5,
   "id": "ce021c29",
   "metadata": {},
   "outputs": [],
   "source": [
    "items=[]\n",
    "with open('mushroom.dat', 'r') as file:\n",
    "    dataset = csv.reader(file, delimiter=' ')\n",
    "    for row in dataset:\n",
    "        temp=[element for element in row]\n",
    "        #temp=temp[:1]\n",
    "        items.append(temp)"
   ]
  },
  {
   "cell_type": "code",
   "execution_count": 6,
   "id": "d812f23f",
   "metadata": {},
   "outputs": [
    {
     "name": "stdout",
     "output_type": "stream",
     "text": [
      "         support                                           itemsets\n",
      "0       1.000000                                                 ()\n",
      "1       1.000000                                               (85)\n",
      "2       0.975382                                               (86)\n",
      "3       0.974151                                               (34)\n",
      "4       0.921713                                               (90)\n",
      "...          ...                                                ...\n",
      "107162  0.212703  (, 24, 110, 1, 90, 48, 34, 36, 53, 85, 58, 86,...\n",
      "107163  0.212703  (, 24, 110, 1, 90, 48, 34, 36, 53, 85, 58, 94,...\n",
      "107164  0.212703  (, 24, 110, 1, 90, 48, 34, 36, 53, 85, 94, 86,...\n",
      "107165  0.212703  (, 24, 110, 1, 90, 48, 34, 36, 53, 85, 58, 94,...\n",
      "107166  0.212703  (, 24, 110, 1, 90, 48, 34, 36, 53, 85, 58, 94,...\n",
      "\n",
      "[107167 rows x 2 columns]\n",
      "Runtime of the program is 1.140625\n",
      "       support                        itemsets\n",
      "0     1.000000                              ()\n",
      "1     1.000000                            (85)\n",
      "2     0.975382                            (86)\n",
      "3     0.974151                            (34)\n",
      "4     0.921713                            (90)\n",
      "...        ...                             ...\n",
      "1126  0.407681      (, 39, 90, 34, 36, 85, 56)\n",
      "1127  0.407681      (, 39, 90, 34, 36, 86, 56)\n",
      "1128  0.407681    (39, 90, 34, 36, 85, 86, 56)\n",
      "1129  0.407681      (, 39, 90, 34, 85, 86, 56)\n",
      "1130  0.407681  (, 39, 90, 34, 36, 85, 86, 56)\n",
      "\n",
      "[1131 rows x 2 columns]\n",
      "Runtime of the program is 0.15625\n",
      "      support            itemsets\n",
      "0    1.000000                (85)\n",
      "1    1.000000                  ()\n",
      "2    0.975382                (86)\n",
      "3    0.974151                (34)\n",
      "4    0.921713                (90)\n",
      "..        ...                 ...\n",
      "98   0.664943      (, 39, 85, 34)\n",
      "99   0.664943  (, 39, 34, 85, 86)\n",
      "100  0.612506        (39, 90, 85)\n",
      "101  0.612506          (, 39, 90)\n",
      "102  0.612506      (, 39, 90, 85)\n",
      "\n",
      "[103 rows x 2 columns]\n",
      "Runtime of the program is 0.109375\n",
      "     support            itemsets\n",
      "0   1.000000                (85)\n",
      "1   1.000000                  ()\n",
      "2   0.975382                (86)\n",
      "3   0.974151                (34)\n",
      "4   0.921713                (90)\n",
      "5   0.838503                (36)\n",
      "6   1.000000              (, 85)\n",
      "7   0.975382              (, 86)\n",
      "8   0.975382            (86, 85)\n",
      "9   0.975382          (, 86, 85)\n",
      "10  0.974151              (, 34)\n",
      "11  0.974151            (85, 34)\n",
      "12  0.973166            (86, 34)\n",
      "13  0.974151          (, 85, 34)\n",
      "14  0.973166          (, 86, 34)\n",
      "15  0.973166        (86, 85, 34)\n",
      "16  0.973166      (, 86, 85, 34)\n",
      "17  0.921713              (, 90)\n",
      "18  0.921713            (90, 85)\n",
      "19  0.898080            (90, 34)\n",
      "20  0.897095            (90, 86)\n",
      "21  0.921713          (, 90, 85)\n",
      "22  0.898080          (, 90, 34)\n",
      "23  0.897095          (, 90, 86)\n",
      "24  0.898080        (90, 85, 34)\n",
      "25  0.897095        (90, 86, 85)\n",
      "26  0.897095        (90, 86, 34)\n",
      "27  0.898080      (, 90, 85, 34)\n",
      "28  0.897095      (, 90, 86, 85)\n",
      "29  0.897095      (, 90, 86, 34)\n",
      "30  0.897095    (90, 86, 85, 34)\n",
      "31  0.897095  (, 90, 34, 85, 86)\n",
      "32  0.838503              (, 36)\n",
      "33  0.838503            (36, 85)\n",
      "34  0.814870            (36, 86)\n",
      "35  0.812654            (36, 34)\n",
      "36  0.838503          (, 36, 85)\n",
      "37  0.814870          (, 36, 86)\n",
      "38  0.812654          (, 36, 34)\n",
      "39  0.814870        (36, 86, 85)\n",
      "40  0.812654        (36, 85, 34)\n",
      "41  0.812654        (36, 86, 34)\n",
      "42  0.814870      (, 36, 86, 85)\n",
      "43  0.812654      (, 36, 85, 34)\n",
      "44  0.812654      (, 36, 86, 34)\n",
      "45  0.812654    (36, 86, 85, 34)\n",
      "46  0.812654  (, 34, 36, 85, 86)\n",
      "Runtime of the program is 0.109375\n",
      "   support itemsets\n",
      "0      1.0     (85)\n",
      "1      1.0       ()\n",
      "2      1.0   (, 85)\n",
      "Runtime of the program is 0.09375\n"
     ]
    }
   ],
   "source": [
    "fpc_times = list()\n",
    "fpc_elements = list()\n",
    "minsupport = .2\n",
    "while minsupport <=1:\n",
    "  start = time.process_time()\n",
    "  te = TransactionEncoder()\n",
    "  te_ary = te.fit(items).transform(items)\n",
    "  df = pd.DataFrame(te_ary, columns=te.columns_)\n",
    "  result= fpgrowth(df, min_support= minsupport, use_colnames=True)\n",
    "  fpc_elements.append(minsupport)    \n",
    "  end = time.process_time()\n",
    "  fpc_times.append(end-start)\n",
    "  print (result)\n",
    "  # total time taken\n",
    "  print(f\"Runtime of the program is {end - start}\")\n",
    "  minsupport +=.2"
   ]
  },
  {
   "cell_type": "code",
   "execution_count": 7,
   "id": "a2b40651",
   "metadata": {},
   "outputs": [
    {
     "data": {
      "image/png": "[encoded data removed]",
      "text/plain": [
       "<Figure size 432x288 with 1 Axes>"
      ]
     },
     "metadata": {
      "needs_background": "light"
     },
     "output_type": "display_data"
    }
   ],
   "source": [
    "plt.title('Mushroom')\n",
    "plt.xlabel('Minimum Threshold')\n",
    "plt.ylabel('Time Complexity')\n",
    "plt.plot(fpc_elements, fpc_times, label ='Fp-Growth')\n",
    "plt.grid()\n",
    "plt.legend()\n",
    "plt.savefig('FpgrowthMushroom.pdf',bbox_inches='tight')\n",
    "plt.show()"
   ]
  },
  {
   "cell_type": "code",
   "execution_count": 8,
   "id": "6fa4751c",
   "metadata": {},
   "outputs": [
    {
     "data": {
      "image/png": "[encoded data removed]",
      "text/plain": [
       "<Figure size 432x288 with 1 Axes>"
      ]
     },
     "metadata": {
      "needs_background": "light"
     },
     "output_type": "display_data"
    }
   ],
   "source": [
    "plt.title('Mushroom')\n",
    "plt.xlabel('Minimum Threshold')\n",
    "plt.ylabel('Time Complexity')\n",
    "plt.plot(apc_elements, apc_times, label ='Apriori')\n",
    "plt.plot(fpc_elements, fpc_times, label ='Fp-Growth')\n",
    "plt.grid()\n",
    "plt.legend()\n",
    "plt.savefig('Mushroomcombine.pdf',bbox_inches='tight')\n",
    "plt.show()"
   ]
  },
  {
   "cell_type": "code",
   "execution_count": null,
   "id": "97ebb1d4",
   "metadata": {},
   "outputs": [],
   "source": []
  },
  {
   "cell_type": "code",
   "execution_count": null,
   "id": "f893a72c",
   "metadata": {},
   "outputs": [],
   "source": []
  }
 ],
 "metadata": {
  "kernelspec": {
   "display_name": "Python 3",
   "language": "python",
   "name": "python3"
  },
  "language_info": {
   "codemirror_mode": {
    "name": "ipython",
    "version": 3
   },
   "file_extension": ".py",
   "mimetype": "text/x-python",
   "name": "python",
   "nbconvert_exporter": "python",
   "pygments_lexer": "ipython3",
   "version": "3.8.8"
  }
 },
 "nbformat": 4,
 "nbformat_minor": 5
}
